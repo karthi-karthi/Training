{
 "cells": [
  {
   "cell_type": "markdown",
   "id": "9e6fe0b2-b50c-4941-9e15-1a973db806ff",
   "metadata": {},
   "source": [
    "# Part 1: Variables and Data Types\n",
    "\n",
    "1. Create and Display Variables\n",
    "\n",
    "    Create variables to store the following information:\n",
    "        Your name (string)\n",
    "        Your age (integer)\n",
    "        Your height in meters (float)\n",
    "        Whether you are a student (boolean)\n",
    "   \n",
    "    Print each variable with an appropriate label"
   ]
  },
  {
   "cell_type": "code",
   "execution_count": 34,
   "id": "4968e2ab-80e1-487b-b25d-5a1c4ad97fc4",
   "metadata": {},
   "outputs": [
    {
     "name": "stdout",
     "output_type": "stream",
     "text": [
      "Name : Karthika Krishnan\n",
      "Age : 26\n",
      "Height : 1.5\n",
      "Student : False\n"
     ]
    }
   ],
   "source": [
    "name = \"Karthika Krishnan\"\n",
    "age = 26\n",
    "height = 1.50\n",
    "student = False\n",
    "\n",
    "print(f\"Name : {name}\")\n",
    "print(f\"Age : {age}\")\n",
    "print(f\"Height : {height}\")\n",
    "print(f\"Student : {student}\")\n"
   ]
  },
  {
   "cell_type": "markdown",
   "id": "ec69e82c-43d8-43fa-abe9-9aca072f7d66",
   "metadata": {},
   "source": [
    "2. Create three variables representing a data pipeline's name, version, and status (Running/Failed). Print them in a structured message."
   ]
  },
  {
   "cell_type": "code",
   "execution_count": 35,
   "id": "965c6111-d82a-4c19-af03-4b2d9161b532",
   "metadata": {},
   "outputs": [
    {
     "name": "stdout",
     "output_type": "stream",
     "text": [
      "Pipeline Name: Pipeline A\n",
      "Pipeline Version: v1.0\n",
      "Pipeline Status: Running\n"
     ]
    }
   ],
   "source": [
    "pipeline_name = \"Pipeline A\"\n",
    "pipeline_version = \"v1.0\"\n",
    "pipeline_status = \"Running\" \n",
    "\n",
    "print(f\"Pipeline Name: {pipeline_name}\")\n",
    "print(f\"Pipeline Version: {pipeline_version}\")\n",
    "print(f\"Pipeline Status: {pipeline_status}\")\n"
   ]
  },
  {
   "cell_type": "markdown",
   "id": "a427d0fc-2e46-406c-9867-f30c5103c828",
   "metadata": {},
   "source": [
    "3. Store API credentials (API Key, Secret Key) in a tuple and print them."
   ]
  },
  {
   "cell_type": "code",
   "execution_count": 46,
   "id": "99dcd0f9-e6ec-44fa-84d7-41e85824f8ee",
   "metadata": {},
   "outputs": [
    {
     "name": "stdout",
     "output_type": "stream",
     "text": [
      "API Key: api_key_12345\n",
      "Secret Key: secret_key#2_\n"
     ]
    }
   ],
   "source": [
    "api_credentials = (\"api_key_12345\", \"secret_key#2_\")\n",
    "\n",
    "print(f\"API Key: {api_credentials[0]}\")\n",
    "print(f\"Secret Key: {api_credentials[1]}\")\n"
   ]
  },
  {
   "cell_type": "markdown",
   "id": "b68fb082-baaa-477c-ac62-51b82b66bebb",
   "metadata": {},
   "source": [
    "4. Create variables for the following:\n",
    "    amount = 123.45\n",
    "    is_valid = True\n",
    "    customer_name = \"Alice\"\n",
    "    items = 5\n",
    "    Use the type() function to display the data type of each variable."
   ]
  },
  {
   "cell_type": "code",
   "execution_count": 47,
   "id": "e8666e06-2dcd-4e37-9c95-1f5e26185a4b",
   "metadata": {},
   "outputs": [
    {
     "name": "stdout",
     "output_type": "stream",
     "text": [
      "<class 'float'>\n",
      "<class 'bool'>\n",
      "<class 'str'>\n",
      "<class 'int'>\n"
     ]
    }
   ],
   "source": [
    "amount = 123.45\n",
    "is_valid = True\n",
    "customer_name = \"Alice\"\n",
    "items = 5\n",
    "\n",
    "print(type(amount))\n",
    "print(type(is_valid))\n",
    "print(type(customer_name))\n",
    "print(type(items))"
   ]
  },
  {
   "cell_type": "markdown",
   "id": "ac9d0409-6666-4346-b611-4f415fc5fae2",
   "metadata": {},
   "source": [
    "# Part 2: Print Statements and Formatting\n",
    "\n",
    "3. Formatted Printing\n",
    "   \n",
    "Create the following variables:\n",
    "    product_name\n",
    "    price = 999.99\n",
    "    quantity = 2\n",
    "Print a message formatted as\n",
    "You purchased 2 Laptop(s) for $999.99 each."
   ]
  },
  {
   "cell_type": "code",
   "execution_count": 49,
   "id": "a7250c8d-a0a1-4251-82f6-1f7083146d5f",
   "metadata": {},
   "outputs": [
    {
     "name": "stdout",
     "output_type": "stream",
     "text": [
      "You purchased 2 Laptop(s) for $999.99 each.\n"
     ]
    }
   ],
   "source": [
    "product_name = \"Laptop\"\n",
    "price = 999.99\n",
    "quantity = 2\n",
    "\n",
    "print(f\"You purchased {quantity} {product_name}(s) for ${price} each.\")"
   ]
  },
  {
   "cell_type": "markdown",
   "id": "522c998d-db78-40f6-8dfa-c91103114ecb",
   "metadata": {},
   "source": [
    "# Part 3: Arithmetic Operations and Rounding\n",
    "\n",
    "## Rounding to Two Decimal Places\n",
    "\n",
    "Write a program that calculates the total cost of items with tax:\n",
    "    item_cost = 19.99\n",
    "    tax_rate = 0.075 (7.5%)\n",
    "\n",
    "Calculate the total cost (item_cost + (item_cost * tax_rate)) and display it rounded to 2 decimal places.\n",
    "Expected Output:\n",
    "\n",
    "Total cost: $21.49"
   ]
  },
  {
   "cell_type": "code",
   "execution_count": 57,
   "id": "bc095472-d023-48fb-9ccd-1e6657393988",
   "metadata": {},
   "outputs": [
    {
     "name": "stdout",
     "output_type": "stream",
     "text": [
      "$21.49\n"
     ]
    }
   ],
   "source": [
    "item_cost = 19.99\n",
    "tax_rate = 0.075\n",
    "print(f\"${round(item_cost + (item_cost * tax_rate),2)}\")"
   ]
  },
  {
   "cell_type": "markdown",
   "id": "0b84c8f8-b3d7-42f7-9a9c-667972571244",
   "metadata": {},
   "source": [
    "# Percentage Calculation\n",
    "\n",
    "Calculate the percentage of marks scored by a student:\n",
    "    total_marks = 500\n",
    "    marks_scored = 435\n",
    "    \n",
    "Calculate and print the percentage rounded to 2 decimal places.\n",
    "** Expected Output:**\n",
    "\n",
    "Percentage: 87.00%"
   ]
  },
  {
   "cell_type": "code",
   "execution_count": 70,
   "id": "1b8bd051-a48c-4cd6-9e08-8a466db5364a",
   "metadata": {},
   "outputs": [
    {
     "name": "stdout",
     "output_type": "stream",
     "text": [
      "87.00%\n"
     ]
    }
   ],
   "source": [
    "total_marks = 500\n",
    "marks_scored = 435\n",
    "\n",
    "print(f\"{(marks_scored/total_marks)*100:.2f}%\")"
   ]
  },
  {
   "cell_type": "markdown",
   "id": "595f04ea-990b-40a7-9e20-0ba01828c1e2",
   "metadata": {},
   "source": [
    "# Temperature Conversion\n",
    "\n",
    "Write a program to convert temperature from Celsius to Fahrenheit:\n",
    "Formula: \n",
    "\n",
    "Create a variable temp_celsius and set it to 37.\n",
    "Calculate and print the temperature in Fahrenheit rounded to 1 decimal place."
   ]
  },
  {
   "cell_type": "code",
   "execution_count": null,
   "id": "fbe42828-11dc-43d3-b962-dacb292e0976",
   "metadata": {},
   "outputs": [],
   "source": [
    "temp_celsius = 37\n",
    "f{temp_celsius * (9/5) + 32:.1f}"
   ]
  }
 ],
 "metadata": {
  "kernelspec": {
   "display_name": "Python 3 (ipykernel)",
   "language": "python",
   "name": "python3"
  },
  "language_info": {
   "codemirror_mode": {
    "name": "ipython",
    "version": 3
   },
   "file_extension": ".py",
   "mimetype": "text/x-python",
   "name": "python",
   "nbconvert_exporter": "python",
   "pygments_lexer": "ipython3",
   "version": "3.13.2"
  }
 },
 "nbformat": 4,
 "nbformat_minor": 5
}
