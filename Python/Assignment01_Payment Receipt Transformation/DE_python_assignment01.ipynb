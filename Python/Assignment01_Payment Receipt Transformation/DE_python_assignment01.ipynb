{
 "cells": [
  {
   "cell_type": "code",
   "execution_count": 5,
   "id": "565c5604-79ba-4ba2-9c8c-ffd6ad84f32f",
   "metadata": {},
   "outputs": [
    {
     "name": "stdout",
     "output_type": "stream",
     "text": [
      "Receipt saved as receipts/2025_03\\receipt_125322_2025-03-30\n"
     ]
    }
   ],
   "source": [
    "import os\n",
    "\n",
    "cust_id = \"125322\"\n",
    "cust_fname = \"John\"\n",
    "cust_lname = \"O'Connor\"\n",
    "address_line1 = \"123 Main St\"\n",
    "address_line2 = \"unit 203\"\n",
    "city = \"Vancouver\"\n",
    "province = \"BC\"\n",
    "country = \"Canada\"\n",
    "postal_code = \"V4X3A2\"\n",
    "principal = 5000 # Loan principal amount \n",
    "apr = 34.5 # Annual Percentage Rate \n",
    "lp = 12.5 # Loan Protection Premium \n",
    "payment_amount = 100 # Payment amount made by the customer \n",
    "payment_date = \"2025-03-30\" # Date of payment\n",
    "\n",
    "# calculations\n",
    "interest_paid = round(((principal * apr / 100) / 26),2)\n",
    "total_mandatory_amount = round((interest_paid + lp),2)\n",
    "balance_applied_toPrincipal = round((payment_amount - total_mandatory_amount),2)\n",
    "latest_principal_balance = round((principal - balance_applied_toPrincipal),2)\n",
    "next_min_payment_amount = round(((latest_principal_balance * apr / 100) / 26 + lp),2)\n",
    "\n",
    "#output formatting\n",
    "receipt_content = f\"\"\"\n",
    "From,\n",
    "XXX Financials\n",
    "Vancouver\n",
    "\n",
    "To,\n",
    "{cust_lname}, {cust_fname}\n",
    "{address_line1} - {address_line2},\n",
    "{city},\n",
    "{province},\n",
    "{country} {postal_code}\n",
    "\n",
    "Dear {cust_fname},\n",
    "\n",
    "We have received the payment of $round(payment_amount,2) on {payment_date}. Thank you for your payment. Attached is the breakdown of your payment.\n",
    "\n",
    "Interest paid = ${interest_paid}\n",
    "Loan Protection Premium = ${lp}\n",
    "Total mandatory amount = ${total_mandatory_amount}\n",
    "Balance (applied to principal) = ${balance_applied_toPrincipal}\n",
    "Latest Principal balance = ${latest_principal_balance}\n",
    "\n",
    "Next minimum payment amount = ${next_min_payment_amount}\n",
    "\"\"\"\n",
    "\n",
    "#folder to save receipts\n",
    "folder_name = f\"receipts/{payment_date[:4]}_{payment_date[5:7]}\"\n",
    "os.makedirs(folder_name, exist_ok=True)\n",
    "\n",
    "#generate file to save receipt  receipt_125322_2025-03-30\n",
    "file_name = f\"receipt_{cust_id}_{payment_date[:4]}-{payment_date[5:7]}-{payment_date[8:10]}\"\n",
    "file_path = os.path.join(folder_name, file_name)\n",
    "\n",
    "# Write formatted output to the file\n",
    "with open(file_path, \"w\") as receipt_file:\n",
    "    receipt_file.write(receipt_content)\n",
    "\n",
    "print(f\"Receipt saved as {file_path}\")\n",
    "\n"
   ]
  }
 ],
 "metadata": {
  "kernelspec": {
   "display_name": "Python 3 (ipykernel)",
   "language": "python",
   "name": "python3"
  },
  "language_info": {
   "codemirror_mode": {
    "name": "ipython",
    "version": 3
   },
   "file_extension": ".py",
   "mimetype": "text/x-python",
   "name": "python",
   "nbconvert_exporter": "python",
   "pygments_lexer": "ipython3",
   "version": "3.13.2"
  }
 },
 "nbformat": 4,
 "nbformat_minor": 5
}
